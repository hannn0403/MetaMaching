{
 "cells": [
  {
   "cell_type": "code",
   "execution_count": 2,
   "id": "a6272fad-fb95-4c98-a082-aea9fe489a82",
   "metadata": {},
   "outputs": [],
   "source": [
    "# initialization and random seed set\n",
    "\n",
    "import os\n",
    "import scipy\n",
    "import random\n",
    "import sklearn\n",
    "import numpy as np\n",
    "import pandas as pd"
   ]
  },
  {
   "cell_type": "code",
   "execution_count": null,
   "id": "7bab9476-c09b-41b6-8fb1-1d42160e8b78",
   "metadata": {},
   "outputs": [],
   "source": [
    "from dask import dataframe as dd"
   ]
  },
  {
   "cell_type": "code",
   "execution_count": 3,
   "id": "b630020a-1f8e-4c52-aa40-ee51272adf41",
   "metadata": {},
   "outputs": [],
   "source": [
    "df = pd.read_csv('D:/UKBiobank/UKB_wholedata.csv', nrows=20)"
   ]
  },
  {
   "cell_type": "code",
   "execution_count": 4,
   "id": "76c9d0d2-1f50-4c10-89de-67c5a4c47c07",
   "metadata": {},
   "outputs": [
    {
     "data": {
      "text/html": [
       "<div>\n",
       "<style scoped>\n",
       "    .dataframe tbody tr th:only-of-type {\n",
       "        vertical-align: middle;\n",
       "    }\n",
       "\n",
       "    .dataframe tbody tr th {\n",
       "        vertical-align: top;\n",
       "    }\n",
       "\n",
       "    .dataframe thead th {\n",
       "        text-align: right;\n",
       "    }\n",
       "</style>\n",
       "<table border=\"1\" class=\"dataframe\">\n",
       "  <thead>\n",
       "    <tr style=\"text-align: right;\">\n",
       "      <th></th>\n",
       "      <th>eid</th>\n",
       "      <th>3-0.0</th>\n",
       "      <th>3-1.0</th>\n",
       "      <th>3-2.0</th>\n",
       "      <th>3-3.0</th>\n",
       "      <th>4-0.0</th>\n",
       "      <th>4-1.0</th>\n",
       "      <th>4-2.0</th>\n",
       "      <th>4-3.0</th>\n",
       "      <th>5-0.0</th>\n",
       "      <th>...</th>\n",
       "      <th>132596-0.0</th>\n",
       "      <th>132597-0.0</th>\n",
       "      <th>132598-0.0</th>\n",
       "      <th>132599-0.0</th>\n",
       "      <th>132600-0.0</th>\n",
       "      <th>132601-0.0</th>\n",
       "      <th>132602-0.0</th>\n",
       "      <th>132603-0.0</th>\n",
       "      <th>132604-0.0</th>\n",
       "      <th>132605-0.0</th>\n",
       "    </tr>\n",
       "  </thead>\n",
       "  <tbody>\n",
       "    <tr>\n",
       "      <th>0</th>\n",
       "      <td>1000015</td>\n",
       "      <td>370</td>\n",
       "      <td>NaN</td>\n",
       "      <td>NaN</td>\n",
       "      <td>NaN</td>\n",
       "      <td>470.0</td>\n",
       "      <td>NaN</td>\n",
       "      <td>NaN</td>\n",
       "      <td>NaN</td>\n",
       "      <td>408.0</td>\n",
       "      <td>...</td>\n",
       "      <td>NaN</td>\n",
       "      <td>NaN</td>\n",
       "      <td>NaN</td>\n",
       "      <td>NaN</td>\n",
       "      <td>NaN</td>\n",
       "      <td>NaN</td>\n",
       "      <td>NaN</td>\n",
       "      <td>NaN</td>\n",
       "      <td>NaN</td>\n",
       "      <td>NaN</td>\n",
       "    </tr>\n",
       "    <tr>\n",
       "      <th>1</th>\n",
       "      <td>1000027</td>\n",
       "      <td>353</td>\n",
       "      <td>NaN</td>\n",
       "      <td>NaN</td>\n",
       "      <td>NaN</td>\n",
       "      <td>646.0</td>\n",
       "      <td>NaN</td>\n",
       "      <td>NaN</td>\n",
       "      <td>NaN</td>\n",
       "      <td>201.0</td>\n",
       "      <td>...</td>\n",
       "      <td>NaN</td>\n",
       "      <td>NaN</td>\n",
       "      <td>NaN</td>\n",
       "      <td>NaN</td>\n",
       "      <td>NaN</td>\n",
       "      <td>NaN</td>\n",
       "      <td>NaN</td>\n",
       "      <td>NaN</td>\n",
       "      <td>NaN</td>\n",
       "      <td>NaN</td>\n",
       "    </tr>\n",
       "    <tr>\n",
       "      <th>2</th>\n",
       "      <td>1000039</td>\n",
       "      <td>237</td>\n",
       "      <td>NaN</td>\n",
       "      <td>NaN</td>\n",
       "      <td>NaN</td>\n",
       "      <td>339.0</td>\n",
       "      <td>NaN</td>\n",
       "      <td>NaN</td>\n",
       "      <td>NaN</td>\n",
       "      <td>255.0</td>\n",
       "      <td>...</td>\n",
       "      <td>NaN</td>\n",
       "      <td>NaN</td>\n",
       "      <td>NaN</td>\n",
       "      <td>NaN</td>\n",
       "      <td>NaN</td>\n",
       "      <td>NaN</td>\n",
       "      <td>NaN</td>\n",
       "      <td>NaN</td>\n",
       "      <td>NaN</td>\n",
       "      <td>NaN</td>\n",
       "    </tr>\n",
       "    <tr>\n",
       "      <th>3</th>\n",
       "      <td>1000040</td>\n",
       "      <td>322</td>\n",
       "      <td>NaN</td>\n",
       "      <td>NaN</td>\n",
       "      <td>NaN</td>\n",
       "      <td>572.0</td>\n",
       "      <td>NaN</td>\n",
       "      <td>NaN</td>\n",
       "      <td>NaN</td>\n",
       "      <td>320.0</td>\n",
       "      <td>...</td>\n",
       "      <td>NaN</td>\n",
       "      <td>NaN</td>\n",
       "      <td>NaN</td>\n",
       "      <td>NaN</td>\n",
       "      <td>NaN</td>\n",
       "      <td>NaN</td>\n",
       "      <td>NaN</td>\n",
       "      <td>NaN</td>\n",
       "      <td>NaN</td>\n",
       "      <td>NaN</td>\n",
       "    </tr>\n",
       "    <tr>\n",
       "      <th>4</th>\n",
       "      <td>1000053</td>\n",
       "      <td>536</td>\n",
       "      <td>NaN</td>\n",
       "      <td>NaN</td>\n",
       "      <td>NaN</td>\n",
       "      <td>426.0</td>\n",
       "      <td>NaN</td>\n",
       "      <td>NaN</td>\n",
       "      <td>NaN</td>\n",
       "      <td>205.0</td>\n",
       "      <td>...</td>\n",
       "      <td>NaN</td>\n",
       "      <td>NaN</td>\n",
       "      <td>NaN</td>\n",
       "      <td>NaN</td>\n",
       "      <td>NaN</td>\n",
       "      <td>NaN</td>\n",
       "      <td>NaN</td>\n",
       "      <td>NaN</td>\n",
       "      <td>NaN</td>\n",
       "      <td>NaN</td>\n",
       "    </tr>\n",
       "    <tr>\n",
       "      <th>5</th>\n",
       "      <td>1000064</td>\n",
       "      <td>493</td>\n",
       "      <td>NaN</td>\n",
       "      <td>NaN</td>\n",
       "      <td>NaN</td>\n",
       "      <td>669.0</td>\n",
       "      <td>NaN</td>\n",
       "      <td>NaN</td>\n",
       "      <td>NaN</td>\n",
       "      <td>375.0</td>\n",
       "      <td>...</td>\n",
       "      <td>NaN</td>\n",
       "      <td>NaN</td>\n",
       "      <td>NaN</td>\n",
       "      <td>NaN</td>\n",
       "      <td>NaN</td>\n",
       "      <td>NaN</td>\n",
       "      <td>NaN</td>\n",
       "      <td>NaN</td>\n",
       "      <td>NaN</td>\n",
       "      <td>NaN</td>\n",
       "    </tr>\n",
       "    <tr>\n",
       "      <th>6</th>\n",
       "      <td>1000071</td>\n",
       "      <td>955</td>\n",
       "      <td>NaN</td>\n",
       "      <td>NaN</td>\n",
       "      <td>NaN</td>\n",
       "      <td>538.0</td>\n",
       "      <td>NaN</td>\n",
       "      <td>NaN</td>\n",
       "      <td>NaN</td>\n",
       "      <td>230.0</td>\n",
       "      <td>...</td>\n",
       "      <td>NaN</td>\n",
       "      <td>NaN</td>\n",
       "      <td>NaN</td>\n",
       "      <td>NaN</td>\n",
       "      <td>NaN</td>\n",
       "      <td>NaN</td>\n",
       "      <td>NaN</td>\n",
       "      <td>NaN</td>\n",
       "      <td>NaN</td>\n",
       "      <td>NaN</td>\n",
       "    </tr>\n",
       "    <tr>\n",
       "      <th>7</th>\n",
       "      <td>1000088</td>\n",
       "      <td>985</td>\n",
       "      <td>NaN</td>\n",
       "      <td>NaN</td>\n",
       "      <td>NaN</td>\n",
       "      <td>521.0</td>\n",
       "      <td>NaN</td>\n",
       "      <td>NaN</td>\n",
       "      <td>NaN</td>\n",
       "      <td>259.0</td>\n",
       "      <td>...</td>\n",
       "      <td>NaN</td>\n",
       "      <td>NaN</td>\n",
       "      <td>NaN</td>\n",
       "      <td>NaN</td>\n",
       "      <td>NaN</td>\n",
       "      <td>NaN</td>\n",
       "      <td>NaN</td>\n",
       "      <td>NaN</td>\n",
       "      <td>NaN</td>\n",
       "      <td>NaN</td>\n",
       "    </tr>\n",
       "    <tr>\n",
       "      <th>8</th>\n",
       "      <td>1000096</td>\n",
       "      <td>384</td>\n",
       "      <td>NaN</td>\n",
       "      <td>NaN</td>\n",
       "      <td>NaN</td>\n",
       "      <td>554.0</td>\n",
       "      <td>NaN</td>\n",
       "      <td>NaN</td>\n",
       "      <td>NaN</td>\n",
       "      <td>225.0</td>\n",
       "      <td>...</td>\n",
       "      <td>NaN</td>\n",
       "      <td>NaN</td>\n",
       "      <td>NaN</td>\n",
       "      <td>NaN</td>\n",
       "      <td>NaN</td>\n",
       "      <td>NaN</td>\n",
       "      <td>NaN</td>\n",
       "      <td>NaN</td>\n",
       "      <td>NaN</td>\n",
       "      <td>NaN</td>\n",
       "    </tr>\n",
       "    <tr>\n",
       "      <th>9</th>\n",
       "      <td>1000109</td>\n",
       "      <td>309</td>\n",
       "      <td>NaN</td>\n",
       "      <td>NaN</td>\n",
       "      <td>NaN</td>\n",
       "      <td>348.0</td>\n",
       "      <td>NaN</td>\n",
       "      <td>NaN</td>\n",
       "      <td>NaN</td>\n",
       "      <td>227.0</td>\n",
       "      <td>...</td>\n",
       "      <td>NaN</td>\n",
       "      <td>NaN</td>\n",
       "      <td>NaN</td>\n",
       "      <td>NaN</td>\n",
       "      <td>NaN</td>\n",
       "      <td>NaN</td>\n",
       "      <td>NaN</td>\n",
       "      <td>NaN</td>\n",
       "      <td>NaN</td>\n",
       "      <td>NaN</td>\n",
       "    </tr>\n",
       "    <tr>\n",
       "      <th>10</th>\n",
       "      <td>1000117</td>\n",
       "      <td>335</td>\n",
       "      <td>NaN</td>\n",
       "      <td>251.0</td>\n",
       "      <td>NaN</td>\n",
       "      <td>952.0</td>\n",
       "      <td>NaN</td>\n",
       "      <td>561.0</td>\n",
       "      <td>NaN</td>\n",
       "      <td>330.0</td>\n",
       "      <td>...</td>\n",
       "      <td>NaN</td>\n",
       "      <td>NaN</td>\n",
       "      <td>NaN</td>\n",
       "      <td>NaN</td>\n",
       "      <td>NaN</td>\n",
       "      <td>NaN</td>\n",
       "      <td>NaN</td>\n",
       "      <td>NaN</td>\n",
       "      <td>NaN</td>\n",
       "      <td>NaN</td>\n",
       "    </tr>\n",
       "    <tr>\n",
       "      <th>11</th>\n",
       "      <td>1000125</td>\n",
       "      <td>620</td>\n",
       "      <td>NaN</td>\n",
       "      <td>NaN</td>\n",
       "      <td>NaN</td>\n",
       "      <td>671.0</td>\n",
       "      <td>NaN</td>\n",
       "      <td>NaN</td>\n",
       "      <td>NaN</td>\n",
       "      <td>167.0</td>\n",
       "      <td>...</td>\n",
       "      <td>NaN</td>\n",
       "      <td>NaN</td>\n",
       "      <td>NaN</td>\n",
       "      <td>NaN</td>\n",
       "      <td>NaN</td>\n",
       "      <td>NaN</td>\n",
       "      <td>NaN</td>\n",
       "      <td>NaN</td>\n",
       "      <td>NaN</td>\n",
       "      <td>NaN</td>\n",
       "    </tr>\n",
       "    <tr>\n",
       "      <th>12</th>\n",
       "      <td>1000132</td>\n",
       "      <td>416</td>\n",
       "      <td>NaN</td>\n",
       "      <td>NaN</td>\n",
       "      <td>NaN</td>\n",
       "      <td>722.0</td>\n",
       "      <td>NaN</td>\n",
       "      <td>NaN</td>\n",
       "      <td>NaN</td>\n",
       "      <td>354.0</td>\n",
       "      <td>...</td>\n",
       "      <td>NaN</td>\n",
       "      <td>NaN</td>\n",
       "      <td>NaN</td>\n",
       "      <td>NaN</td>\n",
       "      <td>NaN</td>\n",
       "      <td>NaN</td>\n",
       "      <td>NaN</td>\n",
       "      <td>NaN</td>\n",
       "      <td>NaN</td>\n",
       "      <td>NaN</td>\n",
       "    </tr>\n",
       "    <tr>\n",
       "      <th>13</th>\n",
       "      <td>1000148</td>\n",
       "      <td>1336</td>\n",
       "      <td>NaN</td>\n",
       "      <td>367.0</td>\n",
       "      <td>NaN</td>\n",
       "      <td>700.0</td>\n",
       "      <td>NaN</td>\n",
       "      <td>422.0</td>\n",
       "      <td>NaN</td>\n",
       "      <td>784.0</td>\n",
       "      <td>...</td>\n",
       "      <td>NaN</td>\n",
       "      <td>NaN</td>\n",
       "      <td>NaN</td>\n",
       "      <td>NaN</td>\n",
       "      <td>NaN</td>\n",
       "      <td>NaN</td>\n",
       "      <td>NaN</td>\n",
       "      <td>NaN</td>\n",
       "      <td>NaN</td>\n",
       "      <td>NaN</td>\n",
       "    </tr>\n",
       "    <tr>\n",
       "      <th>14</th>\n",
       "      <td>1000154</td>\n",
       "      <td>382</td>\n",
       "      <td>NaN</td>\n",
       "      <td>NaN</td>\n",
       "      <td>NaN</td>\n",
       "      <td>NaN</td>\n",
       "      <td>NaN</td>\n",
       "      <td>NaN</td>\n",
       "      <td>NaN</td>\n",
       "      <td>NaN</td>\n",
       "      <td>...</td>\n",
       "      <td>NaN</td>\n",
       "      <td>NaN</td>\n",
       "      <td>NaN</td>\n",
       "      <td>NaN</td>\n",
       "      <td>NaN</td>\n",
       "      <td>NaN</td>\n",
       "      <td>NaN</td>\n",
       "      <td>NaN</td>\n",
       "      <td>NaN</td>\n",
       "      <td>NaN</td>\n",
       "    </tr>\n",
       "    <tr>\n",
       "      <th>15</th>\n",
       "      <td>1000163</td>\n",
       "      <td>298</td>\n",
       "      <td>NaN</td>\n",
       "      <td>NaN</td>\n",
       "      <td>NaN</td>\n",
       "      <td>568.0</td>\n",
       "      <td>NaN</td>\n",
       "      <td>NaN</td>\n",
       "      <td>NaN</td>\n",
       "      <td>273.0</td>\n",
       "      <td>...</td>\n",
       "      <td>NaN</td>\n",
       "      <td>NaN</td>\n",
       "      <td>NaN</td>\n",
       "      <td>NaN</td>\n",
       "      <td>NaN</td>\n",
       "      <td>NaN</td>\n",
       "      <td>NaN</td>\n",
       "      <td>NaN</td>\n",
       "      <td>NaN</td>\n",
       "      <td>NaN</td>\n",
       "    </tr>\n",
       "    <tr>\n",
       "      <th>16</th>\n",
       "      <td>1000176</td>\n",
       "      <td>445</td>\n",
       "      <td>NaN</td>\n",
       "      <td>324.0</td>\n",
       "      <td>NaN</td>\n",
       "      <td>797.0</td>\n",
       "      <td>NaN</td>\n",
       "      <td>NaN</td>\n",
       "      <td>NaN</td>\n",
       "      <td>207.0</td>\n",
       "      <td>...</td>\n",
       "      <td>NaN</td>\n",
       "      <td>NaN</td>\n",
       "      <td>NaN</td>\n",
       "      <td>NaN</td>\n",
       "      <td>NaN</td>\n",
       "      <td>NaN</td>\n",
       "      <td>NaN</td>\n",
       "      <td>NaN</td>\n",
       "      <td>NaN</td>\n",
       "      <td>NaN</td>\n",
       "    </tr>\n",
       "    <tr>\n",
       "      <th>17</th>\n",
       "      <td>1000180</td>\n",
       "      <td>239</td>\n",
       "      <td>NaN</td>\n",
       "      <td>NaN</td>\n",
       "      <td>NaN</td>\n",
       "      <td>443.0</td>\n",
       "      <td>NaN</td>\n",
       "      <td>NaN</td>\n",
       "      <td>NaN</td>\n",
       "      <td>214.0</td>\n",
       "      <td>...</td>\n",
       "      <td>NaN</td>\n",
       "      <td>NaN</td>\n",
       "      <td>NaN</td>\n",
       "      <td>NaN</td>\n",
       "      <td>NaN</td>\n",
       "      <td>NaN</td>\n",
       "      <td>NaN</td>\n",
       "      <td>NaN</td>\n",
       "      <td>NaN</td>\n",
       "      <td>NaN</td>\n",
       "    </tr>\n",
       "    <tr>\n",
       "      <th>18</th>\n",
       "      <td>1000191</td>\n",
       "      <td>557</td>\n",
       "      <td>NaN</td>\n",
       "      <td>NaN</td>\n",
       "      <td>NaN</td>\n",
       "      <td>564.0</td>\n",
       "      <td>NaN</td>\n",
       "      <td>NaN</td>\n",
       "      <td>NaN</td>\n",
       "      <td>231.0</td>\n",
       "      <td>...</td>\n",
       "      <td>NaN</td>\n",
       "      <td>NaN</td>\n",
       "      <td>NaN</td>\n",
       "      <td>NaN</td>\n",
       "      <td>NaN</td>\n",
       "      <td>NaN</td>\n",
       "      <td>NaN</td>\n",
       "      <td>NaN</td>\n",
       "      <td>NaN</td>\n",
       "      <td>NaN</td>\n",
       "    </tr>\n",
       "    <tr>\n",
       "      <th>19</th>\n",
       "      <td>1000204</td>\n",
       "      <td>393</td>\n",
       "      <td>NaN</td>\n",
       "      <td>NaN</td>\n",
       "      <td>NaN</td>\n",
       "      <td>395.0</td>\n",
       "      <td>NaN</td>\n",
       "      <td>NaN</td>\n",
       "      <td>NaN</td>\n",
       "      <td>90.0</td>\n",
       "      <td>...</td>\n",
       "      <td>NaN</td>\n",
       "      <td>NaN</td>\n",
       "      <td>NaN</td>\n",
       "      <td>NaN</td>\n",
       "      <td>NaN</td>\n",
       "      <td>NaN</td>\n",
       "      <td>NaN</td>\n",
       "      <td>NaN</td>\n",
       "      <td>NaN</td>\n",
       "      <td>NaN</td>\n",
       "    </tr>\n",
       "  </tbody>\n",
       "</table>\n",
       "<p>20 rows × 30814 columns</p>\n",
       "</div>"
      ],
      "text/plain": [
       "        eid  3-0.0  3-1.0  3-2.0  3-3.0  4-0.0  4-1.0  4-2.0  4-3.0  5-0.0  \\\n",
       "0   1000015    370    NaN    NaN    NaN  470.0    NaN    NaN    NaN  408.0   \n",
       "1   1000027    353    NaN    NaN    NaN  646.0    NaN    NaN    NaN  201.0   \n",
       "2   1000039    237    NaN    NaN    NaN  339.0    NaN    NaN    NaN  255.0   \n",
       "3   1000040    322    NaN    NaN    NaN  572.0    NaN    NaN    NaN  320.0   \n",
       "4   1000053    536    NaN    NaN    NaN  426.0    NaN    NaN    NaN  205.0   \n",
       "5   1000064    493    NaN    NaN    NaN  669.0    NaN    NaN    NaN  375.0   \n",
       "6   1000071    955    NaN    NaN    NaN  538.0    NaN    NaN    NaN  230.0   \n",
       "7   1000088    985    NaN    NaN    NaN  521.0    NaN    NaN    NaN  259.0   \n",
       "8   1000096    384    NaN    NaN    NaN  554.0    NaN    NaN    NaN  225.0   \n",
       "9   1000109    309    NaN    NaN    NaN  348.0    NaN    NaN    NaN  227.0   \n",
       "10  1000117    335    NaN  251.0    NaN  952.0    NaN  561.0    NaN  330.0   \n",
       "11  1000125    620    NaN    NaN    NaN  671.0    NaN    NaN    NaN  167.0   \n",
       "12  1000132    416    NaN    NaN    NaN  722.0    NaN    NaN    NaN  354.0   \n",
       "13  1000148   1336    NaN  367.0    NaN  700.0    NaN  422.0    NaN  784.0   \n",
       "14  1000154    382    NaN    NaN    NaN    NaN    NaN    NaN    NaN    NaN   \n",
       "15  1000163    298    NaN    NaN    NaN  568.0    NaN    NaN    NaN  273.0   \n",
       "16  1000176    445    NaN  324.0    NaN  797.0    NaN    NaN    NaN  207.0   \n",
       "17  1000180    239    NaN    NaN    NaN  443.0    NaN    NaN    NaN  214.0   \n",
       "18  1000191    557    NaN    NaN    NaN  564.0    NaN    NaN    NaN  231.0   \n",
       "19  1000204    393    NaN    NaN    NaN  395.0    NaN    NaN    NaN   90.0   \n",
       "\n",
       "    ...  132596-0.0  132597-0.0  132598-0.0  132599-0.0  132600-0.0  \\\n",
       "0   ...         NaN         NaN         NaN         NaN         NaN   \n",
       "1   ...         NaN         NaN         NaN         NaN         NaN   \n",
       "2   ...         NaN         NaN         NaN         NaN         NaN   \n",
       "3   ...         NaN         NaN         NaN         NaN         NaN   \n",
       "4   ...         NaN         NaN         NaN         NaN         NaN   \n",
       "5   ...         NaN         NaN         NaN         NaN         NaN   \n",
       "6   ...         NaN         NaN         NaN         NaN         NaN   \n",
       "7   ...         NaN         NaN         NaN         NaN         NaN   \n",
       "8   ...         NaN         NaN         NaN         NaN         NaN   \n",
       "9   ...         NaN         NaN         NaN         NaN         NaN   \n",
       "10  ...         NaN         NaN         NaN         NaN         NaN   \n",
       "11  ...         NaN         NaN         NaN         NaN         NaN   \n",
       "12  ...         NaN         NaN         NaN         NaN         NaN   \n",
       "13  ...         NaN         NaN         NaN         NaN         NaN   \n",
       "14  ...         NaN         NaN         NaN         NaN         NaN   \n",
       "15  ...         NaN         NaN         NaN         NaN         NaN   \n",
       "16  ...         NaN         NaN         NaN         NaN         NaN   \n",
       "17  ...         NaN         NaN         NaN         NaN         NaN   \n",
       "18  ...         NaN         NaN         NaN         NaN         NaN   \n",
       "19  ...         NaN         NaN         NaN         NaN         NaN   \n",
       "\n",
       "    132601-0.0  132602-0.0  132603-0.0  132604-0.0  132605-0.0  \n",
       "0          NaN         NaN         NaN         NaN         NaN  \n",
       "1          NaN         NaN         NaN         NaN         NaN  \n",
       "2          NaN         NaN         NaN         NaN         NaN  \n",
       "3          NaN         NaN         NaN         NaN         NaN  \n",
       "4          NaN         NaN         NaN         NaN         NaN  \n",
       "5          NaN         NaN         NaN         NaN         NaN  \n",
       "6          NaN         NaN         NaN         NaN         NaN  \n",
       "7          NaN         NaN         NaN         NaN         NaN  \n",
       "8          NaN         NaN         NaN         NaN         NaN  \n",
       "9          NaN         NaN         NaN         NaN         NaN  \n",
       "10         NaN         NaN         NaN         NaN         NaN  \n",
       "11         NaN         NaN         NaN         NaN         NaN  \n",
       "12         NaN         NaN         NaN         NaN         NaN  \n",
       "13         NaN         NaN         NaN         NaN         NaN  \n",
       "14         NaN         NaN         NaN         NaN         NaN  \n",
       "15         NaN         NaN         NaN         NaN         NaN  \n",
       "16         NaN         NaN         NaN         NaN         NaN  \n",
       "17         NaN         NaN         NaN         NaN         NaN  \n",
       "18         NaN         NaN         NaN         NaN         NaN  \n",
       "19         NaN         NaN         NaN         NaN         NaN  \n",
       "\n",
       "[20 rows x 30814 columns]"
      ]
     },
     "execution_count": 4,
     "metadata": {},
     "output_type": "execute_result"
    }
   ],
   "source": [
    "df"
   ]
  },
  {
   "cell_type": "code",
   "execution_count": 51,
   "id": "b63b9223-c0da-4eaa-b929-00968ed148c0",
   "metadata": {},
   "outputs": [
    {
     "name": "stdout",
     "output_type": "stream",
     "text": [
      "25024-2.0\n",
      "25024-3.0\n"
     ]
    }
   ],
   "source": [
    "col_list = list(df.columns)\n",
    "\n",
    "for col in col_list: \n",
    "    if '25024' in col.split('-')[0]:\n",
    "        print(col)"
   ]
  },
  {
   "cell_type": "code",
   "execution_count": 69,
   "id": "c061cea4-5168-4f21-b264-31060b6a0c44",
   "metadata": {},
   "outputs": [],
   "source": [
    "col_list = list(df.columns)\n",
    "\n",
    "def compare_two_imaging_features(field_1, field_2, col_list):\n",
    "    field_1_list = []\n",
    "    field_2_list = []\n",
    "    \n",
    "    # 혹시 몰라서 이와 같이 하기는 했으나, 대부분 2.0 / 3.0 두가지 버전으로 존재한다. \n",
    "    for col in col_list :\n",
    "        if field_1 in col.split('-')[0]: \n",
    "            field_1_list.append(col)\n",
    "        elif field_2 in col.split('-')[0]:\n",
    "            field_2_list.append(col)\n",
    "    \n",
    "    df_1 = pd.read_csv('D:/UKBiobank/UKB_wholedata.csv', header=0, usecols=field_1_list)\n",
    "    df_2 = pd.read_csv('D:/UKBiobank/UKB_wholedata.csv', header=0, usecols=field_2_list)\n",
    "    \n",
    "    # 두 데이터 프레임의 shape 비교 \n",
    "    print(f\"Data field {field_1} length : {df_1.shape}\") \n",
    "    print(f\"Data field {field_2} length : {df_2.shape}\") \n",
    "    \n",
    "    two_versions = True\n",
    "    \n",
    "    if len(field_1_list) != 2:\n",
    "        print(f\"Data field {field_1} has more than two versions!\")\n",
    "        print(field_1_list)\n",
    "        two_versions = False\n",
    "    if len(field_2_list) != 2:\n",
    "        print(f\"Data field {field_2} has more than two versions!\")\n",
    "        print(field_2_list)\n",
    "        two_versions = False \n",
    "        \n",
    "        \n",
    "    if two_versions: \n",
    "        df_1_ver_2 = df_1[df_1[field_1+'-2.0'].notnull()]\n",
    "        df_2_ver_2 = df_2[df_2[field_2+'-2.0'].notnull()]\n",
    "        \n",
    "        df_1_ver_3 = df_1[df_1[field_1+'-3.0'].notnull()]\n",
    "        df_2_ver_3 = df_2[df_2[field_2+'-3.0'].notnull()]\n",
    "        \n",
    "        print(f\"Data field {field_1} ver 2.0: {df_1_ver_2.shape}\")\n",
    "        print(f\"Data field {field_2} ver 2.0: {df_2_ver_2.shape}\")\n",
    "        \n",
    "        print(f\"Data field {field_1} ver 3.0: {df_1_ver_3.shape}\")\n",
    "        print(f\"Data field {field_2} ver 3.0: {df_2_ver_3.shape}\")\n",
    "    \n",
    "    return 0\n",
    "    "
   ]
  },
  {
   "cell_type": "markdown",
   "id": "96fb3363-f800-4067-97ed-913ddec6a216",
   "metadata": {},
   "source": [
    "# Checking the number of Indexes in the same categories"
   ]
  },
  {
   "cell_type": "markdown",
   "id": "4c8a25a5-6a93-4f12-a219-4132b919eaa2",
   "metadata": {
    "tags": []
   },
   "source": [
    "## Regional Grey matter volumes"
   ]
  },
  {
   "cell_type": "code",
   "execution_count": 59,
   "id": "783b2bdf-6705-40f4-a390-9905d139fd4d",
   "metadata": {},
   "outputs": [
    {
     "name": "stdout",
     "output_type": "stream",
     "text": [
      "25888-2.0\n",
      "25888-3.0\n"
     ]
    }
   ],
   "source": [
    "col_list = list(df.columns)\n",
    "\n",
    "for col in col_list: \n",
    "    if '25888' in col.split('-')[0]: # Volume of grey matter in Amygdala (left)\n",
    "        print(col)"
   ]
  },
  {
   "cell_type": "code",
   "execution_count": null,
   "id": "a33b284a-e7a9-4b38-a339-a8a1ffc9130d",
   "metadata": {},
   "outputs": [],
   "source": [
    "whole_gm_vol_25888 = pd.read_csv('D:/UKBiobank/UKB_wholedata.csv', header=0, usecols=['25888-2.0', '25888-3.0'])\n",
    "# Volume of grey matter in Amygdala (left)\n",
    "\n",
    "\n",
    "whole_gm_vol_25880 = pd.read_csv('D:/UKBiobank/UKB_wholedata.csv', header=0, usecols=['25880-2.0', '25880-3.0']) \n",
    "# Volume of grey matter in Caudate (left)\n"
   ]
  },
  {
   "cell_type": "code",
   "execution_count": 62,
   "id": "ae6bd9ee-d79f-4dcb-be61-10855890ac8a",
   "metadata": {},
   "outputs": [
    {
     "name": "stdout",
     "output_type": "stream",
     "text": [
      "25888 : (502367, 2)\n",
      "25880 : (502367, 2)\n",
      "25888 ver 2.0 : (46393, 2)\n",
      "25880 ver 2.0: (46393, 2)\n",
      "25888 ver 3.0 : (4784, 2)\n",
      "25880 ver 3.0: (4784, 2)\n",
      "True\n"
     ]
    }
   ],
   "source": [
    "\n",
    "\n",
    "# 두 데이터 셋의 길이 비교 \n",
    "print(f\"25888 : {whole_gm_vol_25888.shape}\")\n",
    "print(f\"25880 : {whole_gm_vol_25880.shape}\")\n",
    "\n",
    "# 2.0 비교 \n",
    "whole_gm_vol_25888_ver_2 = whole_gm_vol_25888[whole_gm_vol_25888['25888-2.0'].notnull()]\n",
    "whole_gm_vol_25880_ver_2 = whole_gm_vol_25888[whole_gm_vol_25880['25880-2.0'].notnull()]\n",
    "print(f\"25888 ver 2.0 : {whole_gm_vol_25888_ver_2.shape}\")\n",
    "print(f\"25880 ver 2.0: {whole_gm_vol_25880_ver_2.shape}\")\n",
    "\n",
    "\n",
    "# 3.0 비교 \n",
    "whole_gm_vol_25888_ver_3 = whole_gm_vol_25888[whole_gm_vol_25888['25888-3.0'].notnull()]\n",
    "whole_gm_vol_25880_ver_3 = whole_gm_vol_25888[whole_gm_vol_25880['25880-3.0'].notnull()]\n",
    "print(f\"25888 ver 3.0 : {whole_gm_vol_25888_ver_3.shape}\")\n",
    "print(f\"25880 ver 3.0: {whole_gm_vol_25880_ver_3.shape}\")\n",
    "\n",
    "\n",
    "# 두 데이터 셋의 인덱스 리스트 비교 \n",
    "idx_list_25888 = whole_gm_vol_25888.index.tolist()\n",
    "idx_list_25880 = whole_gm_vol_25880.index.tolist()\n",
    "\n",
    "print(idx_list_25888 == idx_list_25880)"
   ]
  },
  {
   "cell_type": "markdown",
   "id": "3f7d411e-0366-4201-ab64-a4882ebf4be5",
   "metadata": {},
   "source": [
    "**Regional Grey matter volumes에 해당하는 서로 다른 두 feature가 동일한 수의 row를 가지고 있고, index list가 동일하다는 것을 알 수 있다.**"
   ]
  },
  {
   "cell_type": "markdown",
   "id": "bbdf23cf-3fbb-4db6-bc59-da63900d6d77",
   "metadata": {
    "tags": []
   },
   "source": [
    "## SubCortical Volumes"
   ]
  },
  {
   "cell_type": "code",
   "execution_count": 63,
   "id": "4d86f196-1bc5-465a-b712-bab825aa852d",
   "metadata": {},
   "outputs": [],
   "source": [
    "sub_vol_25021 = pd.read_csv('D:/UKBiobank/UKB_wholedata.csv', header=0, usecols=['25021-2.0', '25021-3.0'])\n",
    "# Volume of grey matter in Amygdala (left)\n",
    "\n",
    "\n",
    "sub_vol_25018 = pd.read_csv('D:/UKBiobank/UKB_wholedata.csv', header=0, usecols=['25018-2.0', '25018-3.0']) \n",
    "# Volume of grey matter in Caudate (left)\n"
   ]
  },
  {
   "cell_type": "code",
   "execution_count": 64,
   "id": "d8a7c69e-9904-4c3a-8d90-121dcb7f5424",
   "metadata": {},
   "outputs": [
    {
     "name": "stdout",
     "output_type": "stream",
     "text": [
      "25021 : (502367, 2)\n",
      "25880 : (502367, 2)\n",
      "25888 ver 2.0 : (46381, 2)\n",
      "25880 ver 2.0: (46381, 2)\n",
      "25021 ver 3.0 : (4784, 2)\n",
      "25018 ver 3.0: (4784, 2)\n",
      "True\n"
     ]
    }
   ],
   "source": [
    "# 두 데이터 셋의 길이 비교 \n",
    "print(f\"25021 : {sub_vol_25021.shape}\")\n",
    "print(f\"25880 : {sub_vol_25018.shape}\")\n",
    "\n",
    "# 2.0 비교 \n",
    "sub_vol_25021_ver_2 = sub_vol_25021[sub_vol_25021['25021-2.0'].notnull()]\n",
    "sub_vol_25018_ver_2 = sub_vol_25018[sub_vol_25018['25018-2.0'].notnull()]\n",
    "print(f\"25888 ver 2.0 : {sub_vol_25021_ver_2.shape}\")\n",
    "print(f\"25880 ver 2.0: {sub_vol_25018_ver_2.shape}\")\n",
    "\n",
    "\n",
    "# 3.0 비교 \n",
    "sub_vol_25021_ver_3 = sub_vol_25021[sub_vol_25021['25021-3.0'].notnull()]\n",
    "sub_vol_25018_ver_3 = sub_vol_25018[sub_vol_25018['25018-3.0'].notnull()]\n",
    "print(f\"25021 ver 3.0 : {sub_vol_25021_ver_3.shape}\")\n",
    "print(f\"25018 ver 3.0: {sub_vol_25018_ver_3.shape}\")\n",
    "\n",
    "\n",
    "# 두 데이터 셋의 인덱스 리스트 비교 \n",
    "sub_vol_25021_idx = sub_vol_25021.index.tolist()\n",
    "sub_vol_25018_idx = sub_vol_25018.index.tolist()\n",
    "\n",
    "print(sub_vol_25021_idx == sub_vol_25018_idx)"
   ]
  },
  {
   "cell_type": "markdown",
   "id": "7c867325-58cf-4316-a898-08d14dfded7f",
   "metadata": {
    "tags": []
   },
   "source": [
    "##  Freesurfer ASEG"
   ]
  },
  {
   "cell_type": "code",
   "execution_count": 70,
   "id": "a7e1d097-0f7a-444a-9151-3ab130e22536",
   "metadata": {},
   "outputs": [
    {
     "name": "stdout",
     "output_type": "stream",
     "text": [
      "Data field 26502 length : (502367, 2)\n",
      "Data field 26582 length : (502367, 2)\n",
      "Data field 26502 ver 2.0: (46852, 2)\n",
      "Data field 26582 ver 2.0: (46852, 2)\n",
      "Data field 26502 ver 3.0: (4758, 2)\n",
      "Data field 26582 ver 3.0: (4758, 2)\n"
     ]
    },
    {
     "data": {
      "text/plain": [
       "0"
      ]
     },
     "execution_count": 70,
     "metadata": {},
     "output_type": "execute_result"
    }
   ],
   "source": [
    "compare_two_imaging_features('26502', '26582', col_list)"
   ]
  },
  {
   "cell_type": "markdown",
   "id": "c9e4996e-18a1-46c8-b0b0-6bcc748c3689",
   "metadata": {
    "jp-MarkdownHeadingCollapsed": true,
    "tags": []
   },
   "source": [
    "## Freesurfer BA exvivo"
   ]
  },
  {
   "cell_type": "code",
   "execution_count": 71,
   "id": "2d8fb27a-0a8a-46c0-a0f8-19000501ee85",
   "metadata": {},
   "outputs": [
    {
     "name": "stdout",
     "output_type": "stream",
     "text": [
      "Data field 27103 length : (502367, 2)\n",
      "Data field 27082 length : (502367, 2)\n",
      "Data field 27103 ver 2.0: (46852, 2)\n",
      "Data field 27082 ver 2.0: (46852, 2)\n",
      "Data field 27103 ver 3.0: (4758, 2)\n",
      "Data field 27082 ver 3.0: (4758, 2)\n"
     ]
    },
    {
     "data": {
      "text/plain": [
       "0"
      ]
     },
     "execution_count": 71,
     "metadata": {},
     "output_type": "execute_result"
    }
   ],
   "source": [
    "compare_two_imaging_features('27103', '27082', col_list)"
   ]
  },
  {
   "cell_type": "markdown",
   "id": "d1801e00-c048-43c2-b24f-42dc4b68410c",
   "metadata": {
    "jp-MarkdownHeadingCollapsed": true,
    "tags": []
   },
   "source": [
    "## Freesurfer DKT"
   ]
  },
  {
   "cell_type": "code",
   "execution_count": 72,
   "id": "8296306c-0323-496e-a9be-05bf342c2011",
   "metadata": {},
   "outputs": [
    {
     "name": "stdout",
     "output_type": "stream",
     "text": [
      "Data field 27236 length : (502367, 2)\n",
      "Data field 27283 length : (502367, 2)\n",
      "Data field 27236 ver 2.0: (46852, 2)\n",
      "Data field 27283 ver 2.0: (46852, 2)\n",
      "Data field 27236 ver 3.0: (4758, 2)\n",
      "Data field 27283 ver 3.0: (4758, 2)\n"
     ]
    },
    {
     "data": {
      "text/plain": [
       "0"
      ]
     },
     "execution_count": 72,
     "metadata": {},
     "output_type": "execute_result"
    }
   ],
   "source": [
    "compare_two_imaging_features('27236', '27283', col_list)"
   ]
  },
  {
   "cell_type": "markdown",
   "id": "6deda408-34af-4d2f-9d13-b7af9c098c9d",
   "metadata": {
    "jp-MarkdownHeadingCollapsed": true,
    "tags": []
   },
   "source": [
    "## Freesurfer desikan gw"
   ]
  },
  {
   "cell_type": "code",
   "execution_count": 73,
   "id": "39c1a02a-4949-44e9-950b-fad194d58a1f",
   "metadata": {},
   "outputs": [
    {
     "name": "stdout",
     "output_type": "stream",
     "text": [
      "Data field 27025 length : (502367, 2)\n",
      "Data field 27056 length : (502367, 2)\n",
      "Data field 27025 ver 2.0: (46852, 2)\n",
      "Data field 27056 ver 2.0: (46852, 2)\n",
      "Data field 27025 ver 3.0: (4758, 2)\n",
      "Data field 27056 ver 3.0: (4758, 2)\n"
     ]
    },
    {
     "data": {
      "text/plain": [
       "0"
      ]
     },
     "execution_count": 73,
     "metadata": {},
     "output_type": "execute_result"
    }
   ],
   "source": [
    "compare_two_imaging_features('27025', '27056', col_list)"
   ]
  },
  {
   "cell_type": "markdown",
   "id": "4254fa0a-c51a-4e78-9345-c8c8171e9e7d",
   "metadata": {
    "jp-MarkdownHeadingCollapsed": true,
    "tags": []
   },
   "source": [
    "## Freesurfer desikan pial"
   ]
  },
  {
   "cell_type": "code",
   "execution_count": 74,
   "id": "426f17d2-f0b0-402a-a0d3-e606989f61a0",
   "metadata": {},
   "outputs": [
    {
     "name": "stdout",
     "output_type": "stream",
     "text": [
      "Data field 26962 length : (502367, 2)\n",
      "Data field 26988 length : (502367, 2)\n",
      "Data field 26962 ver 2.0: (46852, 2)\n",
      "Data field 26988 ver 2.0: (46852, 2)\n",
      "Data field 26962 ver 3.0: (4758, 2)\n",
      "Data field 26988 ver 3.0: (4758, 2)\n"
     ]
    },
    {
     "data": {
      "text/plain": [
       "0"
      ]
     },
     "execution_count": 74,
     "metadata": {},
     "output_type": "execute_result"
    }
   ],
   "source": [
    "compare_two_imaging_features('26962', '26988', col_list)"
   ]
  },
  {
   "cell_type": "markdown",
   "id": "38e5b449-9718-4d45-a090-37828b8dc180",
   "metadata": {
    "jp-MarkdownHeadingCollapsed": true,
    "tags": []
   },
   "source": [
    "## Freesurfer desikan white"
   ]
  },
  {
   "cell_type": "code",
   "execution_count": 75,
   "id": "fcde391e-3560-46a1-9d9e-ed0013751d11",
   "metadata": {},
   "outputs": [
    {
     "name": "stdout",
     "output_type": "stream",
     "text": [
      "Data field 26825 length : (502367, 2)\n",
      "Data field 26858 length : (502367, 2)\n",
      "Data field 26825 ver 2.0: (46852, 2)\n",
      "Data field 26858 ver 2.0: (46852, 2)\n",
      "Data field 26825 ver 3.0: (4758, 2)\n",
      "Data field 26858 ver 3.0: (4758, 2)\n"
     ]
    },
    {
     "data": {
      "text/plain": [
       "0"
      ]
     },
     "execution_count": 75,
     "metadata": {},
     "output_type": "execute_result"
    }
   ],
   "source": [
    "compare_two_imaging_features('26825', '26858', col_list)"
   ]
  },
  {
   "cell_type": "markdown",
   "id": "5cf02620-8ac2-4d69-a139-1d0c7a7530e5",
   "metadata": {
    "jp-MarkdownHeadingCollapsed": true,
    "tags": []
   },
   "source": [
    "## Freesurfer subsegmentation"
   ]
  },
  {
   "cell_type": "code",
   "execution_count": 76,
   "id": "fb111330-7b11-40d6-af5c-240546818249",
   "metadata": {},
   "outputs": [
    {
     "name": "stdout",
     "output_type": "stream",
     "text": [
      "Data field 26613 length : (502367, 2)\n",
      "Data field 26665 length : (502367, 2)\n",
      "Data field 26613 ver 2.0: (46852, 2)\n",
      "Data field 26665 ver 2.0: (46852, 2)\n",
      "Data field 26613 ver 3.0: (4758, 2)\n",
      "Data field 26665 ver 3.0: (4758, 2)\n"
     ]
    },
    {
     "data": {
      "text/plain": [
       "0"
      ]
     },
     "execution_count": 76,
     "metadata": {},
     "output_type": "execute_result"
    }
   ],
   "source": [
    "\n",
    "compare_two_imaging_features('26613', '26665', col_list)"
   ]
  },
  {
   "cell_type": "markdown",
   "id": "a38ae4ab-3f13-4c4e-837e-684b0b9e7e97",
   "metadata": {},
   "source": [
    "# Feature Extraction"
   ]
  },
  {
   "cell_type": "markdown",
   "id": "0716ede4-9a0b-4bac-869c-f1b6cf1d7393",
   "metadata": {},
   "source": [
    "같은 카테고리에 있는 data field를 Extraction"
   ]
  }
 ],
 "metadata": {
  "kernelspec": {
   "display_name": "meta_learning",
   "language": "python",
   "name": "meta_learning"
  },
  "language_info": {
   "codemirror_mode": {
    "name": "ipython",
    "version": 3
   },
   "file_extension": ".py",
   "mimetype": "text/x-python",
   "name": "python",
   "nbconvert_exporter": "python",
   "pygments_lexer": "ipython3",
   "version": "3.9.16"
  }
 },
 "nbformat": 4,
 "nbformat_minor": 5
}
