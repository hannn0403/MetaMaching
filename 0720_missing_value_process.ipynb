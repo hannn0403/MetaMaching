{
 "cells": [
  {
   "cell_type": "code",
   "execution_count": 1,
   "metadata": {},
   "outputs": [
    {
     "name": "stdout",
     "output_type": "stream",
     "text": [
      "1.25.1\n"
     ]
    }
   ],
   "source": [
    "import numpy as np\n",
    "import pandas as pd\n",
    "import os\n",
    "import impyute as impy\n",
    "\n",
    "print(np.__version__)"
   ]
  },
  {
   "cell_type": "markdown",
   "metadata": {},
   "source": [
    "#### csv 읽는 경로 수정 필요"
   ]
  },
  {
   "cell_type": "code",
   "execution_count": 7,
   "metadata": {},
   "outputs": [],
   "source": [
    "df = pd.read_csv('./data_field_with_null_data/matrix pattern completion_one_columns.csv', index_col=0)"
   ]
  },
  {
   "cell_type": "code",
   "execution_count": 8,
   "metadata": {},
   "outputs": [
    {
     "data": {
      "text/html": [
       "<div>\n",
       "<style scoped>\n",
       "    .dataframe tbody tr th:only-of-type {\n",
       "        vertical-align: middle;\n",
       "    }\n",
       "\n",
       "    .dataframe tbody tr th {\n",
       "        vertical-align: top;\n",
       "    }\n",
       "\n",
       "    .dataframe thead th {\n",
       "        text-align: right;\n",
       "    }\n",
       "</style>\n",
       "<table border=\"1\" class=\"dataframe\">\n",
       "  <thead>\n",
       "    <tr style=\"text-align: right;\">\n",
       "      <th></th>\n",
       "      <th>6333</th>\n",
       "      <th>6373</th>\n",
       "    </tr>\n",
       "  </thead>\n",
       "  <tbody>\n",
       "    <tr>\n",
       "      <th>1000015</th>\n",
       "      <td>NaN</td>\n",
       "      <td>NaN</td>\n",
       "    </tr>\n",
       "    <tr>\n",
       "      <th>1000027</th>\n",
       "      <td>NaN</td>\n",
       "      <td>NaN</td>\n",
       "    </tr>\n",
       "    <tr>\n",
       "      <th>1000039</th>\n",
       "      <td>NaN</td>\n",
       "      <td>NaN</td>\n",
       "    </tr>\n",
       "    <tr>\n",
       "      <th>1000040</th>\n",
       "      <td>NaN</td>\n",
       "      <td>NaN</td>\n",
       "    </tr>\n",
       "    <tr>\n",
       "      <th>1000053</th>\n",
       "      <td>NaN</td>\n",
       "      <td>NaN</td>\n",
       "    </tr>\n",
       "  </tbody>\n",
       "</table>\n",
       "</div>"
      ],
      "text/plain": [
       "         6333  6373\n",
       "1000015   NaN   NaN\n",
       "1000027   NaN   NaN\n",
       "1000039   NaN   NaN\n",
       "1000040   NaN   NaN\n",
       "1000053   NaN   NaN"
      ]
     },
     "execution_count": 8,
     "metadata": {},
     "output_type": "execute_result"
    }
   ],
   "source": [
    "df.head()"
   ]
  },
  {
   "cell_type": "code",
   "execution_count": 9,
   "metadata": {},
   "outputs": [
    {
     "data": {
      "text/plain": [
       "6333    453129\n",
       "6373    453125\n",
       "dtype: int64"
      ]
     },
     "execution_count": 9,
     "metadata": {},
     "output_type": "execute_result"
    }
   ],
   "source": [
    "df.isnull().sum()"
   ]
  },
  {
   "cell_type": "code",
   "execution_count": 2,
   "metadata": {},
   "outputs": [],
   "source": [
    "df_path = './data_field_with_null_data/'\n",
    "df_list = os.listdir(df_path)\n",
    "df_list = df_list[28:]"
   ]
  },
  {
   "cell_type": "code",
   "execution_count": 5,
   "metadata": {},
   "outputs": [
    {
     "name": "stdout",
     "output_type": "stream",
     "text": [
      "Start matrix pattern completion_one_columns.csv at 2023-07-20 12:32:40.514806\n",
      "Start Medical_conditions.csv at 2023-07-20 18:37:31.897680\n",
      "Start Medications.csv at 2023-07-20 23:35:00.262961\n",
      "Start Mental Health_one_columns.csv at 2023-07-20 23:35:25.852927\n",
      "Start Numeric_memory.csv at 2023-07-21 00:31:55.097993\n",
      "Start Pairs Matching_online.csv at 2023-07-21 13:06:11.248903\n",
      "Start Pairs_matching.csv at 2023-07-21 16:24:36.080656\n",
      "Start Physical_activity.csv at 2023-07-21 16:26:26.242323\n",
      "Start Process completion times_one_columns.csv at 2023-07-21 16:27:51.194844\n"
     ]
    },
    {
     "ename": "BadInputError",
     "evalue": "Data is not float.",
     "output_type": "error",
     "traceback": [
      "\u001b[1;31m---------------------------------------------------------------------------\u001b[0m",
      "\u001b[1;31mBadInputError\u001b[0m                             Traceback (most recent call last)",
      "Cell \u001b[1;32mIn[5], line 18\u001b[0m\n\u001b[0;32m     16\u001b[0m \u001b[38;5;28mprint\u001b[39m(\u001b[38;5;124mf\u001b[39m\u001b[38;5;124m\"\u001b[39m\u001b[38;5;124mStart \u001b[39m\u001b[38;5;132;01m{\u001b[39;00mdataframe\u001b[38;5;132;01m}\u001b[39;00m\u001b[38;5;124m at \u001b[39m\u001b[38;5;132;01m{\u001b[39;00mnow\u001b[38;5;132;01m}\u001b[39;00m\u001b[38;5;124m\"\u001b[39m)\n\u001b[0;32m     17\u001b[0m null_df \u001b[38;5;241m=\u001b[39m pd\u001b[38;5;241m.\u001b[39mread_csv(df_path\u001b[38;5;241m+\u001b[39mdataframe, index_col\u001b[38;5;241m=\u001b[39m\u001b[38;5;241m0\u001b[39m)\n\u001b[1;32m---> 18\u001b[0m imputed_df \u001b[38;5;241m=\u001b[39m \u001b[43mdata_impute_by_impyute\u001b[49m\u001b[43m(\u001b[49m\u001b[43mnull_df\u001b[49m\u001b[43m)\u001b[49m\n\u001b[0;32m     19\u001b[0m imputed_df\u001b[38;5;241m.\u001b[39mto_csv(dest_path \u001b[38;5;241m+\u001b[39m dataframe)\n",
      "Cell \u001b[1;32mIn[5], line 8\u001b[0m, in \u001b[0;36mdata_impute_by_impyute\u001b[1;34m(df)\u001b[0m\n\u001b[0;32m      6\u001b[0m \u001b[38;5;28;01mfor\u001b[39;00m i \u001b[38;5;129;01min\u001b[39;00m \u001b[38;5;28mrange\u001b[39m(\u001b[38;5;28mlen\u001b[39m(df\u001b[38;5;241m.\u001b[39mcolumns)):\n\u001b[0;32m      7\u001b[0m     data_missing \u001b[38;5;241m=\u001b[39m df[[df\u001b[38;5;241m.\u001b[39mcolumns[i]]]\u001b[38;5;241m.\u001b[39mvalues\n\u001b[1;32m----> 8\u001b[0m     imputed \u001b[38;5;241m=\u001b[39m \u001b[43mimpy\u001b[49m\u001b[38;5;241;43m.\u001b[39;49m\u001b[43mem\u001b[49m\u001b[43m(\u001b[49m\u001b[43mdata_missing\u001b[49m\u001b[43m)\u001b[49m\n\u001b[0;32m      9\u001b[0m     df[df\u001b[38;5;241m.\u001b[39mcolumns[i]] \u001b[38;5;241m=\u001b[39m imputed\n\u001b[0;32m     10\u001b[0m \u001b[38;5;28;01mreturn\u001b[39;00m df\n",
      "File \u001b[1;32m~\\anaconda3\\envs\\meta_learning\\lib\\site-packages\\impyute\\util\\preprocess.py:55\u001b[0m, in \u001b[0;36mpreprocess.<locals>.wrapper\u001b[1;34m(*args, **kwargs)\u001b[0m\n\u001b[0;32m     53\u001b[0m     \u001b[38;5;28;01mreturn\u001b[39;00m pd_DataFrame(fn(\u001b[38;5;241m*\u001b[39margs, \u001b[38;5;241m*\u001b[39m\u001b[38;5;241m*\u001b[39mkwargs))\n\u001b[0;32m     54\u001b[0m \u001b[38;5;28;01melse\u001b[39;00m:\n\u001b[1;32m---> 55\u001b[0m     \u001b[38;5;28;01mreturn\u001b[39;00m fn(\u001b[38;5;241m*\u001b[39margs, \u001b[38;5;241m*\u001b[39m\u001b[38;5;241m*\u001b[39mkwargs)\n",
      "File \u001b[1;32m~\\anaconda3\\envs\\meta_learning\\lib\\site-packages\\impyute\\util\\checks.py:33\u001b[0m, in \u001b[0;36mchecks.<locals>.wrapper\u001b[1;34m(*args, **kwargs)\u001b[0m\n\u001b[0;32m     31\u001b[0m     \u001b[38;5;28;01mraise\u001b[39;00m BadInputError(\u001b[38;5;124m\"\u001b[39m\u001b[38;5;124mNot a np.ndarray.\u001b[39m\u001b[38;5;124m\"\u001b[39m)\n\u001b[0;32m     32\u001b[0m \u001b[38;5;28;01melif\u001b[39;00m \u001b[38;5;129;01mnot\u001b[39;00m _dtype_float(data):\n\u001b[1;32m---> 33\u001b[0m     \u001b[38;5;28;01mraise\u001b[39;00m BadInputError(\u001b[38;5;124m\"\u001b[39m\u001b[38;5;124mData is not float.\u001b[39m\u001b[38;5;124m\"\u001b[39m)\n\u001b[0;32m     34\u001b[0m \u001b[38;5;28;01melif\u001b[39;00m \u001b[38;5;129;01mnot\u001b[39;00m _nan_exists(data):\n\u001b[0;32m     35\u001b[0m     \u001b[38;5;28;01mraise\u001b[39;00m BadInputError(\u001b[38;5;124m\"\u001b[39m\u001b[38;5;124mNo NaN\u001b[39m\u001b[38;5;124m'\u001b[39m\u001b[38;5;124ms in given data\u001b[39m\u001b[38;5;124m\"\u001b[39m)\n",
      "\u001b[1;31mBadInputError\u001b[0m: Data is not float."
     ]
    }
   ],
   "source": [
    "from datetime import datetime\n",
    "\n",
    "now = datetime.now()\n",
    "\n",
    "def data_impute_by_impyute(df):\n",
    "    for i in range(len(df.columns)):\n",
    "        data_missing = df[[df.columns[i]]].values\n",
    "        imputed = impy.em(data_missing)\n",
    "        df[df.columns[i]] = imputed\n",
    "    return df \n",
    "\n",
    "dest_path = './data_field_after_em/'\n",
    "\n",
    "for dataframe in df_list:\n",
    "    now = datetime.now()\n",
    "    print(f\"Start {dataframe} at {now}\")\n",
    "    null_df = pd.read_csv(df_path+dataframe, index_col=0)\n",
    "    imputed_df = data_impute_by_impyute(null_df)\n",
    "    imputed_df.to_csv(dest_path + dataframe)\n"
   ]
  },
  {
   "cell_type": "code",
   "execution_count": 18,
   "metadata": {},
   "outputs": [],
   "source": [
    "df.to_csv('imputed/Body_size_measures.csv')"
   ]
  }
 ],
 "metadata": {
  "interpreter": {
   "hash": "9211f842e4957b840c6ab516fe1756049fc8809c71ad1557ffcdfc52960e8d65"
  },
  "kernelspec": {
   "display_name": "meta_learning",
   "language": "python",
   "name": "meta_learning"
  },
  "language_info": {
   "codemirror_mode": {
    "name": "ipython",
    "version": 3
   },
   "file_extension": ".py",
   "mimetype": "text/x-python",
   "name": "python",
   "nbconvert_exporter": "python",
   "pygments_lexer": "ipython3",
   "version": "3.9.16"
  }
 },
 "nbformat": 4,
 "nbformat_minor": 4
}
